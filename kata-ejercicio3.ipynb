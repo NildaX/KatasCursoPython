{
 "cells": [
  {
   "cell_type": "code",
   "execution_count": null,
   "metadata": {},
   "outputs": [],
   "source": []
  },
  {
   "cell_type": "markdown",
   "metadata": {},
   "source": [
    "#Ejercicio - Escribir declaraciones if, else, y elif\n",
    "Añadir el código necesario para crear una variable que guarde la velocidad del asteroide.\n",
    "Escribe una expresión de prueba para calcular si necesita una advertencia.\n",
    "Agregue las instrucciones que se ejecutarán si la expresión de prueba es true o false."
   ]
  },
  {
   "cell_type": "code",
   "execution_count": 2,
   "metadata": {},
   "outputs": [
    {
     "name": "stdout",
     "output_type": "stream",
     "text": [
      "¡Un asteroide se acerca a más de 25 km/h!\n"
     ]
    }
   ],
   "source": [
    "asteroide = 26\n",
    "if asteroide > 25:\n",
    "    print('¡Un asteroide se acerca a más de 25 km/h!')\n",
    "else:\n",
    "    print('¡Todo bien, es un día normal!')"
   ]
  },
  {
   "cell_type": "markdown",
   "metadata": {},
   "source": [
    "Agrega el código para crear una variable para un asteroide que viaja a 19 km/s\n",
    "Escribe varias expresiones de prueba para determinar si puedes ver el rayo de luz desde la tierra\n",
    "Agrega las instrucciones que se ejecutarán si las expresiones de prueba son True o False"
   ]
  },
  {
   "cell_type": "code",
   "execution_count": 3,
   "metadata": {},
   "outputs": [
    {
     "name": "stdout",
     "output_type": "stream",
     "text": [
      "Esta pasando un asteroide a poca velocidad, no podras verlo :c\n"
     ]
    }
   ],
   "source": [
    "asteroide = 19\n",
    "if asteroide > 20:\n",
    "    print('¡Mira hacia arriba! Pueda que haya una luz mágica en el cielo')\n",
    "elif asteroide == 20:\n",
    "    print('¡Mira hacia arriba! Pueda que haya una luz mágica en el cielo')\n",
    "else:\n",
    "    print('Esta pasando un asteroide a poca velocidad, no podras verlo :c')"
   ]
  },
  {
   "cell_type": "markdown",
   "metadata": {},
   "source": [
    "#Ejercicio: Uso de operadores and y or\n",
    "Agrega el código para crear nuevas variables para la velocidad y el tamaño del asteroide\n",
    "Para probar el código, prueba con varias velocidades y tamaños\n",
    "Escribe varias expresiones de prueba o combinaciones de expresiones de prueba para determinar qué mensaje se debe enviar a Tierra."
   ]
  },
  {
   "cell_type": "code",
   "execution_count": 11,
   "metadata": {},
   "outputs": [
    {
     "name": "stdout",
     "output_type": "stream",
     "text": [
      "Espacio despejado\n"
     ]
    }
   ],
   "source": [
    "velocidad_asteroide = 20\n",
    "tamano_asteroide = 0\n",
    "if velocidad_asteroide > 25 and tamano_asteroide > 25:\n",
    "    print('¡Peligro, Un asteroide que podría causar daño, se acerca a la tierra!')\n",
    "elif velocidad_asteroide >= 20 and tamano_asteroide>0:\n",
    "    print('¡Mira hacia arriba! Pueda que haya una luz mágica en el cielo')\n",
    "elif tamano_asteroide < 25 and tamano_asteroide > 0:\n",
    "    print('Un asteroide de menos de 25 metros esta pasando por la tierra, pero se quemará a medida que entren en la atmósfera de la Tierra')\n",
    "else:\n",
    "    print('Espacio despejado')"
   ]
  }
 ],
 "metadata": {
  "interpreter": {
   "hash": "c0f70214c0dd213f07f54ee5d6e0ea644bdbba35113c9bfe8aaa0d1db03ad5dd"
  },
  "kernelspec": {
   "display_name": "Python 3.8.3 ('base')",
   "language": "python",
   "name": "python3"
  },
  "language_info": {
   "codemirror_mode": {
    "name": "ipython",
    "version": 3
   },
   "file_extension": ".py",
   "mimetype": "text/x-python",
   "name": "python",
   "nbconvert_exporter": "python",
   "pygments_lexer": "ipython3",
   "version": "3.8.3"
  },
  "orig_nbformat": 4
 },
 "nbformat": 4,
 "nbformat_minor": 2
}
